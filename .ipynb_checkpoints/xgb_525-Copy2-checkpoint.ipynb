{
 "cells": [
  {
   "cell_type": "code",
   "execution_count": 1,
   "metadata": {
    "collapsed": false
   },
   "outputs": [
    {
     "name": "stdout",
     "output_type": "stream",
     "text": [
      "['', '/usr/local/opt/pyenv/versions/anaconda-2.4.0/lib/python27.zip', '/usr/local/opt/pyenv/versions/anaconda-2.4.0/lib/python2.7', '/usr/local/opt/pyenv/versions/anaconda-2.4.0/lib/python2.7/plat-darwin', '/usr/local/opt/pyenv/versions/anaconda-2.4.0/lib/python2.7/plat-mac', '/usr/local/opt/pyenv/versions/anaconda-2.4.0/lib/python2.7/plat-mac/lib-scriptpackages', '/usr/local/opt/pyenv/versions/anaconda-2.4.0/lib/python2.7/lib-tk', '/usr/local/opt/pyenv/versions/anaconda-2.4.0/lib/python2.7/lib-old', '/usr/local/opt/pyenv/versions/anaconda-2.4.0/lib/python2.7/lib-dynload', '/usr/local/Cellar/pyenv/20151124/versions/anaconda-2.4.0/lib/python2.7/site-packages/Sphinx-1.3.1-py2.7.egg', '/usr/local/Cellar/pyenv/20151124/versions/anaconda-2.4.0/lib/python2.7/site-packages/setuptools-18.4-py2.7.egg', '/usr/local/opt/pyenv/versions/anaconda-2.4.0/lib/python2.7/site-packages', '/usr/local/opt/pyenv/versions/anaconda-2.4.0/lib/python2.7/site-packages/aeosa', '/usr/local/opt/pyenv/versions/anaconda-2.4.0/lib/python2.7/site-packages/IPython/extensions', '/home/2829902373/.ipython']\n"
     ]
    }
   ],
   "source": [
    "import numpy as np\n",
    "import pandas as pd\n",
    "import sys\n",
    "print sys.path\n",
    "import sys\n",
    "#sys.path.append('/home/2829902373/.conda/envs/myenv/lib/python2.7/site-packages/xgboost/__init__.pyc')\n",
    "#print sys.path\n",
    "#import xgboost as xgb\n",
    "import matplotlib.pyplot as plt\n",
    "#import seaborn as sns\n",
    "%matplotlib inline\n",
    "\n",
    "df_train = pd.read_csv(\"./train.csv/train.csv\", parse_dates=['timestamp'])\n",
    "df_test = pd.read_csv(\"./test.csv/test.csv\", parse_dates=['timestamp'])\n",
    "df_macro = pd.read_csv(\"./macro.csv\", parse_dates=['timestamp'])"
   ]
  },
  {
   "cell_type": "code",
   "execution_count": 2,
   "metadata": {
    "collapsed": false
   },
   "outputs": [],
   "source": [
    "# =============================\n",
    "# =============================\n",
    "# cleanup\n",
    "# brings error down a lot by removing extreme price per sqm\n",
    "#print(df_train.shape)\n",
    "\n",
    "\n",
    "#Very Strange data\n",
    "df_train.loc[df_train['id'] == 10092, 'build_year'] = 2007\n",
    "df_train.loc[df_train['id'] == 10092, 'state'] = 3\n",
    "df_train.loc[df_train['id'] == 10093, 'build_year'] = 2009\n",
    "\n",
    "\n",
    "\n",
    "#df_train.loc[df_train.full_sq == 0, 'full_sq'] = 30\n",
    "#df_train = df_train[df_train.price_doc/df_train.full_sq <= 600000]\n",
    "#df_train = df_train[df_train.price_doc/df_train.full_sq >= 10000]\n",
    "#print(df_train.shape)\n",
    "#print df_train.describe()\n",
    "# =============================\n",
    "# ============================="
   ]
  },
  {
   "cell_type": "code",
   "execution_count": 3,
   "metadata": {
    "collapsed": false
   },
   "outputs": [],
   "source": [
    "#==============================\n",
    "y_train =df_train['price_doc'].values\n",
    "Y = df_train[\"price_doc\"].values\n",
    "id_test = df_test['id']\n",
    "\n",
    "#df_train.drop(['id', 'price_doc'], axis=1, inplace=True)\n",
    "#df_test.drop(['id'], axis=1, inplace=True)\n",
    "#============================="
   ]
  },
  {
   "cell_type": "code",
   "execution_count": 4,
   "metadata": {
    "collapsed": false
   },
   "outputs": [],
   "source": [
    "# Build df_all = (df_train+df_test).join(df_macro)\n",
    "num_train = len(df_train)\n",
    "df_all = pd.concat([df_train, df_test])\n",
    "#print df_all.shape\n",
    "#print df_all.columns\n",
    "df_all = df_all.join(df_macro, on='timestamp', rsuffix='_macro')\n",
    "#print df_all.shape\n",
    "#print df_all.columns\n",
    "# ==============================\n",
    "#Clean Strange Data\n",
    "\n",
    "#full_sq is 0\n",
    "bad_index = df_all[df_all.full_sq == 0].index\n",
    "df_all.ix[bad_index, 'full_sq'] = np.NaN\n",
    "\n",
    "#Life_sq > Full_sq is strange\n",
    "bad_index = df_all[df_all.life_sq > df_all.full_sq].index\n",
    "df_all.ix[bad_index, \"life_sq\"] = np.NaN\n",
    "\n",
    "#Remove too small Life_Sq data \n",
    "bad_index = df_all[df_all.life_sq < 5].index\n",
    "df_all.ix[bad_index, \"life_sq\"] = np.NaN\n",
    "\n",
    "#Remove too small Full_sq data\n",
    "bad_index = df_all[df_all.full_sq < 5].index\n",
    "df_all.ix[bad_index, \"full_sq\"] = np.NaN\n",
    "\n",
    "#\n",
    "kitch_is_build_year = [13117]\n",
    "df_all.ix[kitch_is_build_year, \"build_year\"] = df_all.ix[kitch_is_build_year, \"kitch_sq\"]\n",
    "\n",
    "#Kitch_sq > life_sq is strange\n",
    "bad_index = df_all[df_all.kitch_sq >= df_all.life_sq].index\n",
    "df_all.ix[bad_index, \"kitch_sq\"] = np.NaN\n",
    "\n",
    "#Kitch_sq == 0 or ==1 is strange\n",
    "bad_index = df_all[(df_all.kitch_sq == 0).values + (df_all.kitch_sq == 1).values].index\n",
    "df_all.ix[bad_index, \"kitch_sq\"] = np.NaN\n",
    "\n",
    "#\n",
    "bad_index = df_all[(df_all.full_sq > 210) & (df_all.life_sq / df_all.full_sq < 0.3)].index\n",
    "df_all.ix[bad_index, \"full_sq\"] = np.NaN\n",
    "\n",
    "#Too old house \n",
    "bad_index = df_all[df_all.build_year < 1500].index\n",
    "df_all.ix[bad_index, \"build_year\"] = np.NaN\n",
    "\n",
    "#Too new house\n",
    "bad_index = df_all[df_all.build_year > 2020].index\n",
    "df_all.ix[bad_index, \"build_year\"] = np.NaN\n",
    "\n",
    "#No room \n",
    "bad_index = df_all[df_all.num_room == 0].index \n",
    "df_all.ix[bad_index, \"num_room\"] = np.NaN\n",
    "\n",
    "#No max floor and floor\n",
    "bad_index = df_all[(df_all.floor == 0).values * (df_all.max_floor == 0).values].index\n",
    "df_all.ix[bad_index, [\"max_floor\", \"floor\"]] = np.NaN\n",
    "\n",
    "#No floor\n",
    "bad_index = df_all[df_all.floor == 0].index\n",
    "df_all.ix[bad_index, \"floor\"] = np.NaN\n",
    "\n",
    "#No max floor\n",
    "bad_index = df_all[df_all.max_floor == 0].index\n",
    "df_all.ix[bad_index, \"max_floor\"]=np.NaN\n",
    "\n",
    "#floor > max_floor \n",
    "bad_index = df_all[df_all.floor > df_all.max_floor].index\n",
    "df_all.ix[bad_index, \"max_floor\"] = np.NaN\n",
    "\n",
    "#23584 is strange\n",
    "bad_index = [23584]\n",
    "df_all.ix[bad_index, \"floor\"] = np.NaN\n",
    "\n",
    "#1 <= state <= 4 \n",
    "bad_index = df_all[df_all.state == 33].index\n",
    "df_all.ix[bad_index, \"state\"] = np.NaN\n",
    "\n",
    "\n",
    "\n",
    "\n",
    "# ==============================\n",
    "#Clean Data\n",
    "#from sklearn.preprocessing import RobustScaler\n",
    "#rbscaler = RobustScaler()\n",
    "#df_all[\"rb_full_sq\"] = rbscaler.fit_transform(df_all[\"full_sq\"])\n"
   ]
  },
  {
   "cell_type": "code",
   "execution_count": 5,
   "metadata": {
    "collapsed": false
   },
   "outputs": [],
   "source": [
    "# Add month-year\n",
    "month_year = (df_all.timestamp.dt.month + df_all.timestamp.dt.year * 100)\n",
    "month_year_cnt_map = month_year.value_counts().to_dict()\n",
    "df_all['month_year_cnt'] = month_year.map(month_year_cnt_map)\n",
    "\n",
    "# Add week-year count\n",
    "week_year = (df_all.timestamp.dt.weekofyear + df_all.timestamp.dt.year * 100)\n",
    "week_year_cnt_map = week_year.value_counts().to_dict()\n",
    "df_all['week_year_cnt'] = week_year.map(week_year_cnt_map)\n",
    "\n",
    "# Add month and day-of-week\n",
    "df_all['month'] = df_all.timestamp.dt.month\n",
    "df_all['dow'] = df_all.timestamp.dt.dayofweek\n",
    "\n",
    "# Other feature engineering\n",
    "df_all['rel_floor'] = df_all['floor'] / df_all['max_floor'].astype(float)\n",
    "df_all['rel_kitch_sq'] = df_all['kitch_sq'] / df_all['full_sq'].astype(float)\n",
    "df_all[\"inverse_floor\"] = df_all[\"max_floor\"]-df_all[\"floor\"]\n",
    "df_all[\"extra_area\"] = df_all[\"full_sq\"] - df_all[\"life_sq\"]\n",
    "df_all[\"room_size\"] = (df_all[\"life_sq\"] - df_all[\"kitch_sq\"])/df_all[\"num_room\"]\n",
    "df_all[\"pop_density_raion\"] = df_all[\"raion_popul\"]/df_all[\"area_m\"]\n",
    "df_all[\"young_proportion\"] =df_all[\"young_all\"] / df_all[\"full_all\"]\n",
    "df_all[\"work_proportion\"] = df_all[\"work_all\"] / df_all[\"full_all\"]\n",
    "df_all[\"retire_proportion\"] = df_all[\"ekder_all\"] / df_all[\"full_all\"]\n",
    "df_all[\"ratio_preschool\"] = df_all[\"children_school\"] /df_all[\"preschool_quota\"]\n",
    "df_all[\"ratio_school\"] = df_all[\"children_school\"] / df_all[\"school_quota\"]\n",
    "df_all[\"year_old\"] = df_all.timestamp.dt.year-df_all[\"build_year\"]\n",
    "\n",
    "\n",
    "\n",
    "#df_all[\"FAR\"]=df_all[\"full_sq\"]/df_all[\"area_m\"].astype(float)\n",
    "#df_all[\"ratio_life\"]=((df_all[\"full_sq\"]-df_all[\"kitch_sq\"])/df_all[\"life_sq\"]).astype(float)\n",
    "#df_all[\"sqrt_area\"] = np.sqrt(df_all[\"area_m\"])\n",
    "#df_all[\"log_full_sq\"] = np.log(df_all[\"full_sq\"])\n",
    "#df_all[\"log_life_sq\"] = np.log(df_all[\"life_sq\"])\n",
    "#df_all[\"log_kitch_sq\"] = np.log(df_all[\"kitch_sq\"])\n",
    "#df_all[\"log_area_m\"] = np.log(df_all[\"area_m\"])\n",
    "#df_all.drop(['full_sq','life_sq','kitch_sq','area_m'],axis=1,inplace=True)\n",
    "#print df_all.loc[:,[\"sub_area\",\"full_sq\",\"life_sq\",\"sqrt_area\",\"area_m\"]]\n",
    "\n",
    "#df_all[\"st_mate\"] = df_all[\"state\"]*df_all[\"material\"]"
   ]
  },
  {
   "cell_type": "code",
   "execution_count": null,
   "metadata": {
    "collapsed": false
   },
   "outputs": [],
   "source": [
    "#clean build_year\n",
    "\n",
    "#col = \"build_year\"\n",
    "#df_all[col].fillna(0,inplace=True)\n",
    "#df_all[\"build_year\"] = df_all[df_all.build_year.values > 0]\n",
    "#ulimit = np.percentile(df_all[col].values, 99.995)\n",
    "#llimit = np.percentile(df_all[col].values, 0.005)\n",
    "#df_all[col].ix[df_all[col]>ulimit] = ulimit\n",
    "#df_all[col].ix[df_all[col]<llimit] = llimit\n"
   ]
  },
  {
   "cell_type": "code",
   "execution_count": null,
   "metadata": {
    "collapsed": true
   },
   "outputs": [],
   "source": [
    "#df_all[\"build_year\"].describe()\n",
    "#print df_all.loc[:,[\"build_count_before_1920\",\"build_count_1921-1945\",\"build_count_1946-1970\",\"build_count_1971-1995\",\"build_count_after_1995\"]]\n",
    "#df_all.loc[:,[\"timestamp\",\"sub_area\",\"raion_build_count_with_builddate_info\",\"build_count_before_1920\",\"build_count_1921-1945\", \"build_count_1946-1970\",\"build_count_1971-1995\",\"build_count_after_1995\",\"build_year\"]]\n",
    "#df_all[\"room_area\"] = ((df_all[\"life_sq\"] - df_all[\"kitch_sq\"])/df_all[\"num_room\"]).astype(float)\n",
    "#df_all.loc[:,[\"sub_area\",\"raion_popul\"]]\n",
    "#df_all[\"raion_build_count_with_builddate_info\"].describe([0.01,0.99])\n",
    "\n",
    "# Remove timestamp column (may overfit the model in train)\n",
    "df_all.drop(['timestamp', 'timestamp_macro'], axis=1, inplace=True)\n",
    "\n",
    "factorize = lambda t: pd.factorize(t[1])[0]\n",
    "\n",
    "df_obj = df_all.select_dtypes(include=['object'])\n",
    "\n",
    "X_all = np.c_[\n",
    "    df_all.select_dtypes(exclude=['object']).values,\n",
    "    np.array(list(map(factorize, df_obj.iteritems()))).T\n",
    "]\n",
    "\n",
    "#print(X_all.shape)\n",
    "\n",
    "X_train = X_all[:num_train]\n",
    "X_test = X_all[num_train:]\n",
    "\n",
    "\n",
    "# Deal with categorical values\n",
    "df_numeric = df_all.select_dtypes(exclude=['object'])\n",
    "df_obj = df_all.select_dtypes(include=['object']).copy()\n",
    "\n",
    "for c in df_obj:\n",
    "    df_obj[c] = pd.factorize(df_obj[c])[0]\n",
    "\n",
    "df_values = pd.concat([df_numeric, df_obj], axis=1)\n",
    "\n",
    "\n",
    "# Convert to numpy values\n",
    "X_all = df_values.values\n",
    "#print(X_all.shape)\n",
    "\n",
    "X_train = X_all[:num_train]\n",
    "X_test = X_all[num_train:]\n",
    "\n",
    "df_columns = df_values.columns\n",
    "\n",
    "\n",
    "xgb_params = {\n",
    "    'eta': 0.05,\n",
    "    'max_depth': 5,\n",
    "    'subsample': 0.7,\n",
    "    'colsample_bytree': 0.7,\n",
    "    'objective': 'reg:linear',\n",
    "    'eval_metric': 'rmse',\n",
    "    'silent': 1\n",
    "}\n",
    "\n",
    "dtrain = xgb.DMatrix(X_train, y_train, feature_names=df_columns)\n",
    "dtest = xgb.DMatrix(X_test, feature_names=df_columns)\n",
    "\n",
    "\n",
    "# Uncomment to tune XGB `num_boost_rounds`\n",
    "\n",
    "cv_result = xgb.cv(xgb_params, dtrain, num_boost_round=1000, early_stopping_rounds=20,verbose_eval=True, show_stdv=False)\n",
    "cv_result[['train-rmse-mean', 'test-rmse-mean']].plot()\n",
    "print cv_result['test-rmse-mean'].min()"
   ]
  },
  {
   "cell_type": "code",
   "execution_count": null,
   "metadata": {
    "collapsed": false
   },
   "outputs": [],
   "source": [
    "#num_boost_rounds = len(cv_result)\n",
    "\n",
    "num_boost_round = 500\n",
    "\n",
    "model = xgb.train(dict(xgb_params, silent=0), dtrain, num_boost_round=num_boost_round)\n",
    "\n",
    "fig, ax = plt.subplots(1, 1, figsize=(7, 25))\n",
    "xgb.plot_importance(model,height=0.5, ax=ax)\n",
    "plt.show()\n",
    "\n",
    "y_pred = model.predict(dtest)\n",
    "y_pred = np.round(y_pred)\n",
    "df_sub = pd.DataFrame({'id': id_test, 'price_doc': y_pred})\n",
    "\n",
    "\n",
    "df_sub.to_csv('sub_530_1.csv', index=False)"
   ]
  },
  {
   "cell_type": "code",
   "execution_count": null,
   "metadata": {
    "collapsed": true
   },
   "outputs": [],
   "source": [
    "print df_sub"
   ]
  },
  {
   "cell_type": "code",
   "execution_count": null,
   "metadata": {
    "collapsed": true
   },
   "outputs": [],
   "source": []
  },
  {
   "cell_type": "code",
   "execution_count": null,
   "metadata": {
    "collapsed": true
   },
   "outputs": [],
   "source": []
  }
 ],
 "metadata": {
  "kernelspec": {
   "display_name": "Python 2",
   "language": "python",
   "name": "python2"
  },
  "language_info": {
   "codemirror_mode": {
    "name": "ipython",
    "version": 2
   },
   "file_extension": ".py",
   "mimetype": "text/x-python",
   "name": "python",
   "nbconvert_exporter": "python",
   "pygments_lexer": "ipython2",
   "version": "2.7.10"
  }
 },
 "nbformat": 4,
 "nbformat_minor": 1
}
