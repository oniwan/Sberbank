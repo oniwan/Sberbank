{
 "cells": [
  {
   "cell_type": "code",
   "execution_count": 1,
   "metadata": {},
   "outputs": [
    {
     "data": {
      "text/plain": [
       "0   2011-08-20\n",
       "1   2011-08-23\n",
       "2   2011-08-27\n",
       "3   2011-09-01\n",
       "4   2011-09-05\n",
       "5   2011-09-06\n",
       "6   2011-09-08\n",
       "7   2011-09-09\n",
       "8   2011-09-10\n",
       "9   2011-09-13\n",
       "Name: timestamp, dtype: datetime64[ns]"
      ]
     },
     "execution_count": 1,
     "metadata": {},
     "output_type": "execute_result"
    }
   ],
   "source": [
    "import pandas as pd\n",
    "import matplotlib.pyplot as plt\n",
    "%matplotlib inline\n",
    "\n",
    "df_test = pd.read_csv(\"./test.csv/test.csv\",parse_dates=['timestamp'])\n",
    "df_train = pd.read_csv(\"./train.csv/train.csv\",parse_dates=['timestamp'])\n",
    "\n",
    "df_train.timestamp.head(10)"
   ]
  },
  {
   "cell_type": "code",
   "execution_count": 11,
   "metadata": {},
   "outputs": [
    {
     "name": "stdout",
     "output_type": "stream",
     "text": [
      "0        2011\n",
      "1        2011\n",
      "2        2011\n",
      "3        2011\n",
      "4        2011\n",
      "5        2011\n",
      "6        2011\n",
      "7        2011\n",
      "8        2011\n",
      "9        2011\n",
      "10       2011\n",
      "11       2011\n",
      "12       2011\n",
      "13       2011\n",
      "14       2011\n",
      "15       2011\n",
      "16       2011\n",
      "17       2011\n",
      "18       2011\n",
      "19       2011\n",
      "20       2011\n",
      "21       2011\n",
      "22       2011\n",
      "23       2011\n",
      "24       2011\n",
      "25       2011\n",
      "26       2011\n",
      "27       2011\n",
      "28       2011\n",
      "29       2011\n",
      "         ... \n",
      "30441    2015\n",
      "30442    2015\n",
      "30443    2015\n",
      "30444    2015\n",
      "30445    2015\n",
      "30446    2015\n",
      "30447    2015\n",
      "30448    2015\n",
      "30449    2015\n",
      "30450    2015\n",
      "30451    2015\n",
      "30452    2015\n",
      "30453    2015\n",
      "30454    2015\n",
      "30455    2015\n",
      "30456    2015\n",
      "30457    2015\n",
      "30458    2015\n",
      "30459    2015\n",
      "30460    2015\n",
      "30461    2015\n",
      "30462    2015\n",
      "30463    2015\n",
      "30464    2015\n",
      "30465    2015\n",
      "30466    2015\n",
      "30467    2015\n",
      "30468    2015\n",
      "30469    2015\n",
      "30470    2015\n",
      "Name: year, dtype: int64\n",
      "       year  month\n",
      "0      2011      8\n",
      "1      2011      8\n",
      "2      2011      8\n",
      "3      2011      9\n",
      "4      2011      9\n",
      "5      2011      9\n",
      "6      2011      9\n",
      "7      2011      9\n",
      "8      2011      9\n",
      "9      2011      9\n",
      "10     2011      9\n",
      "11     2011      9\n",
      "12     2011      9\n",
      "13     2011      9\n",
      "14     2011      9\n",
      "15     2011      9\n",
      "16     2011      9\n",
      "17     2011      9\n",
      "18     2011      9\n",
      "19     2011      9\n",
      "20     2011      9\n",
      "21     2011      9\n",
      "22     2011      9\n",
      "23     2011      9\n",
      "24     2011      9\n",
      "25     2011      9\n",
      "26     2011      9\n",
      "27     2011      9\n",
      "28     2011      9\n",
      "29     2011      9\n",
      "...     ...    ...\n",
      "30441  2015      6\n",
      "30442  2015      6\n",
      "30443  2015      6\n",
      "30444  2015      6\n",
      "30445  2015      6\n",
      "30446  2015      6\n",
      "30447  2015      6\n",
      "30448  2015      6\n",
      "30449  2015      6\n",
      "30450  2015      6\n",
      "30451  2015      6\n",
      "30452  2015      6\n",
      "30453  2015      6\n",
      "30454  2015      6\n",
      "30455  2015      6\n",
      "30456  2015      6\n",
      "30457  2015      6\n",
      "30458  2015      6\n",
      "30459  2015      6\n",
      "30460  2015      6\n",
      "30461  2015      6\n",
      "30462  2015      6\n",
      "30463  2015      6\n",
      "30464  2015      6\n",
      "30465  2015      6\n",
      "30466  2015      6\n",
      "30467  2015      6\n",
      "30468  2015      6\n",
      "30469  2015      6\n",
      "30470  2015      6\n",
      "\n",
      "[30471 rows x 2 columns]\n",
      "Int64Index([  0,   1,   2,   3,   4,   5,   6,   7,   8,   9,\n",
      "            ...\n",
      "            743, 744, 745, 746, 747, 748, 749, 750, 751, 752],\n",
      "           dtype='int64', length=753)\n",
      "0      2011\n",
      "1      2011\n",
      "2      2011\n",
      "3      2011\n",
      "4      2011\n",
      "5      2011\n",
      "6      2011\n",
      "7      2011\n",
      "8      2011\n",
      "9      2011\n",
      "10     2011\n",
      "11     2011\n",
      "12     2011\n",
      "13     2011\n",
      "14     2011\n",
      "15     2011\n",
      "16     2011\n",
      "17     2011\n",
      "18     2011\n",
      "19     2011\n",
      "20     2011\n",
      "21     2011\n",
      "22     2011\n",
      "23     2011\n",
      "24     2011\n",
      "25     2011\n",
      "26     2011\n",
      "27     2011\n",
      "28     2011\n",
      "29     2011\n",
      "       ... \n",
      "723    2011\n",
      "724    2011\n",
      "725    2011\n",
      "726    2011\n",
      "727    2011\n",
      "728    2011\n",
      "729    2011\n",
      "730    2011\n",
      "731    2011\n",
      "732    2011\n",
      "733    2011\n",
      "734    2011\n",
      "735    2011\n",
      "736    2011\n",
      "737    2011\n",
      "738    2011\n",
      "739    2011\n",
      "740    2011\n",
      "741    2011\n",
      "742    2011\n",
      "743    2011\n",
      "744    2011\n",
      "745    2011\n",
      "746    2011\n",
      "747    2011\n",
      "748    2011\n",
      "749    2011\n",
      "750    2011\n",
      "751    2011\n",
      "752    2011\n",
      "Name: year, dtype: int64\n",
      "753     2012\n",
      "754     2012\n",
      "755     2012\n",
      "756     2012\n",
      "757     2012\n",
      "758     2012\n",
      "759     2012\n",
      "760     2012\n",
      "761     2012\n",
      "762     2012\n",
      "763     2012\n",
      "764     2012\n",
      "765     2012\n",
      "766     2012\n",
      "767     2012\n",
      "768     2012\n",
      "769     2012\n",
      "770     2012\n",
      "771     2012\n",
      "772     2012\n",
      "773     2012\n",
      "774     2012\n",
      "775     2012\n",
      "776     2012\n",
      "777     2012\n",
      "778     2012\n",
      "779     2012\n",
      "780     2012\n",
      "781     2012\n",
      "782     2012\n",
      "        ... \n",
      "5562    2012\n",
      "5563    2012\n",
      "5564    2012\n",
      "5565    2012\n",
      "5566    2012\n",
      "5567    2012\n",
      "5568    2012\n",
      "5569    2012\n",
      "5570    2012\n",
      "5571    2012\n",
      "5572    2012\n",
      "5573    2012\n",
      "5574    2012\n",
      "5575    2012\n",
      "5576    2012\n",
      "5577    2012\n",
      "5578    2012\n",
      "5579    2012\n",
      "5580    2012\n",
      "5581    2012\n",
      "5582    2012\n",
      "5583    2012\n",
      "5584    2012\n",
      "5585    2012\n",
      "5586    2012\n",
      "5587    2012\n",
      "5588    2012\n",
      "5589    2012\n",
      "5590    2012\n",
      "5591    2012\n",
      "Name: year, dtype: int64\n"
     ]
    }
   ],
   "source": [
    "df_train.timestamp.dt.year\n",
    "df = pd.DataFrame()\n",
    "df[\"year\"] = df_train.timestamp.dt.year\n",
    "print df[\"year\"]\n",
    "df[\"month\"] = df_train.timestamp.dt.month\n",
    "print df.loc[:,[\"year\",\"month\"]]\n",
    "\n",
    "ind = df[df[\"year\"] == 2011].index\n",
    "print ind\n",
    "print df.ix[ind,\"year\"]\n",
    "ind = df[df[\"year\"] == 2012].index\n",
    "print df.ix[ind,\"year\"]"
   ]
  },
  {
   "cell_type": "code",
   "execution_count": null,
   "metadata": {
    "collapsed": true
   },
   "outputs": [],
   "source": []
  },
  {
   "cell_type": "code",
   "execution_count": null,
   "metadata": {},
   "outputs": [],
   "source": [
    "df_train.timestamp.tail(10)"
   ]
  },
  {
   "cell_type": "code",
   "execution_count": null,
   "metadata": {},
   "outputs": [],
   "source": [
    "df_test.timestamp.head(10)"
   ]
  },
  {
   "cell_type": "code",
   "execution_count": null,
   "metadata": {},
   "outputs": [],
   "source": [
    "df_test.timestamp.tail(10)"
   ]
  },
  {
   "cell_type": "code",
   "execution_count": null,
   "metadata": {},
   "outputs": [],
   "source": [
    "discount_2011 = (1+0.0844)*(1+0.0508)*(1+0.0676)*(1+0.0782)*(1+0.1553)\n",
    "print discount_2011"
   ]
  },
  {
   "cell_type": "code",
   "execution_count": null,
   "metadata": {},
   "outputs": [],
   "source": [
    "discount_2012 = (1+0.0508)*(1+0.0676)*(1+0.0782)*(1+0.1553)\n",
    "print discount_2012"
   ]
  },
  {
   "cell_type": "code",
   "execution_count": null,
   "metadata": {},
   "outputs": [],
   "source": [
    "print 1/discount_2011"
   ]
  },
  {
   "cell_type": "code",
   "execution_count": null,
   "metadata": {},
   "outputs": [],
   "source": [
    "discount_2013 = (1+0.0676)*(1+0.0782)*(1+0.1553)\n",
    "print discount_2013"
   ]
  },
  {
   "cell_type": "code",
   "execution_count": null,
   "metadata": {},
   "outputs": [],
   "source": [
    "discount_2014 = (1+0.0782)*(1+0.1553)\n",
    "print discount_2014"
   ]
  },
  {
   "cell_type": "code",
   "execution_count": null,
   "metadata": {},
   "outputs": [],
   "source": [
    "discount_2015 = (1+0.1553)\n",
    "print discount_2015"
   ]
  },
  {
   "cell_type": "code",
   "execution_count": null,
   "metadata": {},
   "outputs": [],
   "source": [
    "a = (1+0.0844)*(1+0.0508)*(1+0.0676)*(1+0.0782)\n",
    "print a"
   ]
  },
  {
   "cell_type": "code",
   "execution_count": null,
   "metadata": {},
   "outputs": [],
   "source": [
    "1/a"
   ]
  },
  {
   "cell_type": "code",
   "execution_count": null,
   "metadata": {},
   "outputs": [],
   "source": [
    "d_11 = (1+0.0844)*(1+0.0508)*(1+0.0676)*(1+0.0782)\n",
    "d_12 = (1+0.0508)*(1+0.0676)*(1+0.0782)*(1+0.1553)\n",
    "\n",
    "print (0.1553+0.0782)/2"
   ]
  },
  {
   "cell_type": "code",
   "execution_count": null,
   "metadata": {},
   "outputs": [],
   "source": [
    "print 1/1.11675"
   ]
  },
  {
   "cell_type": "code",
   "execution_count": null,
   "metadata": {},
   "outputs": [],
   "source": [
    "r_11 = (1+0.0507)*(1+0.0676)*(1+0.0782)*(1+0.1553)*(1+0.0705)\n",
    "print r_11"
   ]
  },
  {
   "cell_type": "code",
   "execution_count": null,
   "metadata": {},
   "outputs": [],
   "source": [
    "r_12 = (1+0.0676)*(1+0.0782)*(1+0.1553)*(1+0.0705)\n",
    "print r_12"
   ]
  },
  {
   "cell_type": "code",
   "execution_count": null,
   "metadata": {},
   "outputs": [],
   "source": [
    "r_13 = (1+0.0782)*(1+0.1553)*(1+0.0705)\n",
    "print r_13"
   ]
  },
  {
   "cell_type": "code",
   "execution_count": null,
   "metadata": {},
   "outputs": [],
   "source": [
    "r_14 = (1+0.1553)*(1+0.0705)\n",
    "print r_14"
   ]
  },
  {
   "cell_type": "code",
   "execution_count": null,
   "metadata": {},
   "outputs": [],
   "source": [
    "r_15 = (1+0.0705)\n",
    "print r_15"
   ]
  },
  {
   "cell_type": "code",
   "execution_count": null,
   "metadata": {
    "collapsed": true
   },
   "outputs": [],
   "source": []
  }
 ],
 "metadata": {
  "kernelspec": {
   "display_name": "Python 2",
   "language": "python",
   "name": "python2"
  },
  "language_info": {
   "codemirror_mode": {
    "name": "ipython",
    "version": 2
   },
   "file_extension": ".py",
   "mimetype": "text/x-python",
   "name": "python",
   "nbconvert_exporter": "python",
   "pygments_lexer": "ipython2",
   "version": "2.7.13"
  }
 },
 "nbformat": 4,
 "nbformat_minor": 1
}
